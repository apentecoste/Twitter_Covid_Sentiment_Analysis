{
  "nbformat": 4,
  "nbformat_minor": 0,
  "metadata": {
    "colab": {
      "name": "Sentiment_Analysis_Covid.ipynb",
      "provenance": []
    },
    "kernelspec": {
      "name": "python3",
      "display_name": "Python 3"
    }
  },
  "cells": [
    {
      "cell_type": "code",
      "metadata": {
        "id": "V_Y4BgkPViyI",
        "colab_type": "code",
        "outputId": "35c32ff8-3d53-433b-8c7d-7e5584c10aff",
        "colab": {
          "base_uri": "https://localhost:8080/",
          "height": 71
        }
      },
      "source": [
        "import pandas as pd\n",
        "\n",
        "import datetime \n",
        "\n",
        "import nltk, string\n",
        "from nltk.stem import PorterStemmer\n",
        "from nltk.tokenize import sent_tokenize, word_tokenize\n",
        "from nltk.sentiment.vader import SentimentIntensityAnalyzer\n",
        "from nltk.corpus import stopwords\n",
        "\n",
        "from collections import Counter\n",
        "\n",
        "import matplotlib.pyplot as plt\n",
        "\n",
        "import calendar\n",
        "\n",
        "stemming = PorterStemmer()"
      ],
      "execution_count": 0,
      "outputs": [
        {
          "output_type": "stream",
          "text": [
            "/usr/local/lib/python3.6/dist-packages/nltk/twitter/__init__.py:20: UserWarning: The twython library has not been installed. Some functionality from the twitter package will not be available.\n",
            "  warnings.warn(\"The twython library has not been installed. \"\n"
          ],
          "name": "stderr"
        }
      ]
    },
    {
      "cell_type": "code",
      "metadata": {
        "id": "hWzBoXlCVnir",
        "colab_type": "code",
        "outputId": "eb20637c-c034-4eae-8c5d-7148d177cc39",
        "colab": {
          "base_uri": "https://localhost:8080/",
          "height": 85
        }
      },
      "source": [
        "import nltk\n",
        "nltk.download(\"stopwords\")\n",
        "nltk.download('vader_lexicon')"
      ],
      "execution_count": 0,
      "outputs": [
        {
          "output_type": "stream",
          "text": [
            "[nltk_data] Downloading package stopwords to /root/nltk_data...\n",
            "[nltk_data]   Unzipping corpora/stopwords.zip.\n",
            "[nltk_data] Downloading package vader_lexicon to /root/nltk_data...\n"
          ],
          "name": "stdout"
        },
        {
          "output_type": "execute_result",
          "data": {
            "text/plain": [
              "True"
            ]
          },
          "metadata": {
            "tags": []
          },
          "execution_count": 2
        }
      ]
    },
    {
      "cell_type": "code",
      "metadata": {
        "id": "bR2F5DIjVpFO",
        "colab_type": "code",
        "colab": {}
      },
      "source": [
        "def token_stem(df,lan=\"english\"):\n",
        "    stop_words = stopwords.words(lan)\n",
        "    df[\"Text\"] = df[\"Text\"].apply(lambda x: x.replace(\"#\",\"\") ) #remove hastags\n",
        "    df[\"Text\"] = df[\"Text\"].apply(lambda x: x.translate(str.maketrans('','',string.punctuation)))\n",
        "    df[\"list_words\"] = df[\"Text\"].apply(lambda x: x.split(\" \") if len(x.split(\" \"))>1 else \"Unknown\") #tokenize\n",
        "     #remove stopwords\n",
        "    df[\"list_words\"]= df['list_words'].apply(lambda x: [stemming.stem(w) for w in x if not w in stop_words]) #stem\n",
        "    df[\"list_words\"]= df['list_words'].apply(lambda x: [w for w in x if w not in (stop_words,\"\",\"the\")])\n",
        " \n",
        "    return(df)"
      ],
      "execution_count": 0,
      "outputs": []
    },
    {
      "cell_type": "code",
      "metadata": {
        "id": "5xY1hkxLVq5r",
        "colab_type": "code",
        "colab": {}
      },
      "source": [
        "def words_occ(df,n):\n",
        "    words = {}\n",
        "    for i in df[\"list_words\"]:\n",
        "        for w in i:\n",
        "            if w not in words.keys():\n",
        "                words[w] = 1\n",
        "            else:\n",
        "                words[w]+=1\n",
        "    print(Counter(words).most_common()[:n])\n",
        "    "
      ],
      "execution_count": 0,
      "outputs": []
    },
    {
      "cell_type": "code",
      "metadata": {
        "id": "RUgUPkxEVs4t",
        "colab_type": "code",
        "colab": {}
      },
      "source": [
        "is_feeling = [\"I'm\",\"I\",\"am\",\"feeling\",\"me\",\"myself\",\"my\",\"mine\"]"
      ],
      "execution_count": 0,
      "outputs": []
    },
    {
      "cell_type": "code",
      "metadata": {
        "id": "Z6fwoD5DXwKr",
        "colab_type": "code",
        "colab": {}
      },
      "source": [
        "Fear=[\"afraid\", \"scared\", \"frightened\", \"nervous\", \"jittery\", \"shaky\"]\n",
        "Hostility=[\"angry\",\"hostile\", \"irritable\", \"scornful\", \"disgusted\", \"loathing\"]\n",
        "Guilt=[\"guilty\",\"ashamed\", \"blameworthy\", \"angry at self\", \"disgusted with self\", \"dissatisfied with self\"]\n",
        "Sadness= [\"sad\", \"blue\", \"downhearted\", \"alone\", \"lonely\"]\n",
        "\n",
        "Joviality= [\"happy\", \"joyful\", \"delighted\", \"cheerful\", \"excited\", \"enthusiastic\", \"lively\", \"energetic\"]\n",
        "Self_assurance=[\"proud\", \"strong\",\"confident\", \"bold\", \"daring\", \"fearless\"]\n",
        "Attentiveness=[\"alert\", \"attentiveness\", \"concentrating\", \"determined\"]\n",
        "\n",
        "Shyness=[\"shy\", \"bashful\", \"sheepish\",\"timid\"]\n",
        "Fatigue=[\"sleepy\", \"tired\", \"sluggish\", \"drowsy\"]\n",
        "Serenity =[\"calm\",\"relaxed\",\"at ease\"]\n",
        "Surprise= [\"amazed\", \"surprised\", \"astonished\"]\n",
        "\n",
        "list_of_list = [\"Fear\",\"Hostility\",\"Guilt\",\"Sadness\",\"Joviality\",\"Self_assurance\",\"Attentiveness\",\"Shyness\",\"Fatigue\",\"Serenity\",\"Surprise\"]"
      ],
      "execution_count": 0,
      "outputs": []
    },
    {
      "cell_type": "code",
      "metadata": {
        "id": "LYxYEIG_Vudi",
        "colab_type": "code",
        "colab": {}
      },
      "source": [
        "def contains_feeling(df,lan):\n",
        "    if lan==\"french\":\n",
        "        is_feeling = [\"Je\",\"J'ai\",\"J'\",\"pense\",\"souhaite\",\"moi\",\"me\",\"nous\",\"nos\",\"mien\"]\n",
        "    else:\n",
        "        is_feeling = [\"I'm\",\"I\",\"am\",\"feeling\",\"me\",\"myself\",\"my\",\"mine\"]\n",
        "        \n",
        "    df[\"contains_feeling\"]=df[\"list_words\"].apply(lambda x: any(w in s for s in is_feeling for w in x))\n",
        "    return(df)"
      ],
      "execution_count": 0,
      "outputs": []
    },
    {
      "cell_type": "code",
      "metadata": {
        "id": "VNe3xKN6Vvqt",
        "colab_type": "code",
        "colab": {}
      },
      "source": [
        "def match_sentiment(s,lan):\n",
        "    list_of_list = [\"Fear\",\"Hostility\",\"Guilt\",\"Sadness\",\"Joviality\",\"Self_assurance\",\"Attentiveness\",\"Shyness\",\"Fatigue\",\"Serenity\",\"Surprise\"]\n",
        "        \n",
        "    if lan==\"french\":\n",
        "        Fear=[\"effrayé\", \"peur\", \"nerveux\", \"terrifié\",\"soucieux\",\"horrifié\"]\n",
        "        Hostility=[\"enervé\",\"hostile\", \"irrité\", \"dégouté\",\"rageur\",\"dédaigneux\"]\n",
        "        Guilt=[\"coupable\",\"honteux\", \"repentant\", \"dégouté de moi\",\"répréhensible\"]\n",
        "        Sadness= [\"triste\", \"seul\", \"malheureux\",\"piteux\",\"peiné\"]\n",
        "\n",
        "        Joviality= [\"heureux\", \"joyeux\", \"enchanté\", \"gai\",\"excité\", \"enthousiaste\", \"vivant\", \"energique\"]\n",
        "        Self_assurance=[\"fier\", \"fort\",\"confiant\", \"brave\", \"audacieux\", \"courageux\"]\n",
        "        Attentiveness=[\"alerte\", \"attentif\", \"concentré\", \"determiné\"]\n",
        "\n",
        "        Shyness=[\"timide\",\"craintif\",\"timoré\",\"penaud\"]\n",
        "        Fatigue=[\"fatigué\", \"endormi\",\"somnolent\",\"paresseux\"]\n",
        "        Serenity =[\"calme\",\"relaxé\",\"en paix\"]\n",
        "        Surprise= [\"emerveillé\", \"surpris\", \"abasourdi\"]\n",
        "    \n",
        "    elif lan==\"english\":\n",
        "\n",
        "        Fear=[\"afraid\", \"scared\", \"frightened\", \"nervous\", \"jittery\", \"shaky\"]\n",
        "        Hostility=[\"angry\",\"hostile\", \"irritable\", \"scornful\", \"disgusted\", \"loathing\"]\n",
        "        Guilt=[\"guilty\",\"ashamed\", \"blameworthy\", \"angry at self\", \"disgusted with self\", \"dissatisfied with self\"]\n",
        "        Sadness= [\"sad\", \"blue\", \"downhearted\", \"alone\", \"lonely\"]\n",
        "\n",
        "        Joviality= [\"happy\", \"joyful\", \"delighted\", \"cheerful\", \"excited\", \"enthusiastic\", \"lively\", \"energetic\"]\n",
        "        Self_assurance=[\"proud\", \"strong\",\"confident\", \"bold\", \"daring\", \"fearless\"]\n",
        "        Attentiveness=[\"alert\", \"attentiveness\", \"concentrating\", \"determined\"]\n",
        "\n",
        "        Shyness=[\"shy\", \"bashful\", \"sheepish\",\"timid\"]\n",
        "        Fatigue=[\"sleepy\", \"tired\", \"sluggish\", \"drowsy\"]\n",
        "        Serenity =[\"calm\",\"relaxed\",\"at ease\"]\n",
        "        Surprise= [\"amazed\", \"surprised\", \"astonished\"]\n",
        "        \n",
        "    a = []\n",
        "    for word in s:\n",
        "        a = [l for l in list_of_list for w in eval(l) if word in w]\n",
        "        if a != []:\n",
        "            return(a[0])\n",
        "    return(\"Unknown\")"
      ],
      "execution_count": 0,
      "outputs": []
    },
    {
      "cell_type": "code",
      "metadata": {
        "id": "oJ5bOCVfVyco",
        "colab_type": "code",
        "colab": {}
      },
      "source": [
        "value_names = [\"Fear\",\"Sadness\",'Guilt',\"Hostility\",\"Shyness\",\"Fatigue\",\"Surprise\",\"Joviality\",\"Self-assurance\",\"Attentiveness\",\"Serenity\"]\n",
        "alpha_s = [0.0063791,0.0086279,0.0021756,0.0018225,0.0007608,0.0240757,0.0084612,0.0182421,0.0036012,0.0008997,0.0022914]"
      ],
      "execution_count": 0,
      "outputs": []
    },
    {
      "cell_type": "code",
      "metadata": {
        "id": "2aDN9xdcV0DK",
        "colab_type": "code",
        "colab": {}
      },
      "source": [
        "def panas_t_formula(alpha,beta):\n",
        "  if beta<=alpha:\n",
        "    return ( (beta-alpha) / alpha )\n",
        "  else:\n",
        "    return ( (beta-alpha) / beta )"
      ],
      "execution_count": 0,
      "outputs": []
    },
    {
      "cell_type": "code",
      "metadata": {
        "id": "yZaKfeMbV1if",
        "colab_type": "code",
        "colab": {}
      },
      "source": [
        "def panas_t_calc_2(df,t,level=\"week\",lang=\"english\"):\n",
        "    if lang==\"english\":\n",
        "      n = len(df_tweets_feeling_en)\n",
        "    else:\n",
        "      n = len(df_tweets_feeling_fr)\n",
        "    betha_s = []\n",
        "    count_val = []\n",
        "    for i in value_names:\n",
        "        val = 0\n",
        "        try:\n",
        "            val = df[\"main_emotion\"].value_counts()[i]\n",
        "            betha_s.append(val/n)\n",
        "            count_val.append(val)\n",
        "        except:\n",
        "            betha_s.append(0)\n",
        "            count_val.append(val)\n",
        "    results = pd.DataFrame({\"emotion\":value_names,\"alpha\":alpha_s,\"betha\":betha_s,\"occurences\":count_val})\n",
        "    results[\"panas-t\"] = results.apply(lambda x: panas_t_formula(x[\"alpha\"],x[\"betha\"]) ,axis=1)\n",
        "    if level ==\"month\":\n",
        "      results[\"month\"]=t\n",
        "      results['month_name'] = results['month'].apply(lambda x: calendar.month_abbr[x])\n",
        "    else:\n",
        "      results[\"week\"]= t\n",
        "      results[\"first_day_of_week\"]=results[\"week\"].apply(lambda x: datetime.datetime.strptime(\"2020-W\"+str(x) + '-1', \"%Y-W%W-%w\"))\n",
        "\n",
        "    return(results)"
      ],
      "execution_count": 0,
      "outputs": []
    },
    {
      "cell_type": "markdown",
      "metadata": {
        "id": "H5UaTjXoV9wB",
        "colab_type": "text"
      },
      "source": [
        "# Process Data"
      ]
    },
    {
      "cell_type": "code",
      "metadata": {
        "id": "nRmstlJ1V_Ds",
        "colab_type": "code",
        "colab": {}
      },
      "source": [
        "tweets_fr = pd.read_csv(\"/content/tweets_more_fr_quebec.csv\",parse_dates=[\"Datetime\"])"
      ],
      "execution_count": 0,
      "outputs": []
    },
    {
      "cell_type": "code",
      "metadata": {
        "id": "ZuBowJdxWAKw",
        "colab_type": "code",
        "outputId": "5f8b1334-254e-45d6-8c9f-ad4848cc0468",
        "colab": {
          "base_uri": "https://localhost:8080/",
          "height": 34
        }
      },
      "source": [
        "tweets_fr.shape"
      ],
      "execution_count": 0,
      "outputs": [
        {
          "output_type": "execute_result",
          "data": {
            "text/plain": [
              "(7998, 10)"
            ]
          },
          "metadata": {
            "tags": []
          },
          "execution_count": 14
        }
      ]
    },
    {
      "cell_type": "code",
      "metadata": {
        "id": "uPlxUlCNWBpy",
        "colab_type": "code",
        "outputId": "9a634c3b-4f20-402d-bde6-eb5a18408f5f",
        "colab": {
          "base_uri": "https://localhost:8080/",
          "height": 581
        }
      },
      "source": [
        "df_tweets_tok = token_stem(tweets_fr,\"french\")\n",
        "words_occ(df_tweets_tok,5)\n",
        "tweets_en_feel = contains_feeling(df_tweets_tok,\"french\")\n",
        "df_tweets_feeling = tweets_en_feel[tweets_en_feel.contains_feeling]\n",
        "df_tweets_feeling[\"main_emotion\"]= df_tweets_feeling[\"list_words\"].apply(lambda x: match_sentiment(x,\"french\"))\n",
        "df_tweets_feeling_fr = df_tweets_feeling[(df_tweets_feeling.main_emotion!=\"Unknown\")]\n",
        "df_tweets_feeling_fr[\"month\"]= df_tweets_feeling_fr[\"Datetime\"].dt.month\n",
        "df_tweets_feeling_fr[\"week\"]= df_tweets_feeling_fr[\"Datetime\"].dt.week\n",
        "df_tweets_feeling_fr['month_name'] = df_tweets_feeling_fr['month'].apply(lambda x: calendar.month_abbr[x])\n",
        "df_tweets_feeling_fr[\"first_day_of_week\"]=df_tweets_feeling_fr[\"week\"].apply(lambda x: datetime.datetime.strptime(\"2020-W\"+str(x) + '-1', \"%Y-W%W-%w\"))\n",
        "df_tweets_feeling_fr.shape"
      ],
      "execution_count": 0,
      "outputs": [
        {
          "output_type": "stream",
          "text": [
            "[('covid19', 6589), ('covid', 1447), ('a', 1398), ('plu', 1061), ('Le', 911)]\n"
          ],
          "name": "stdout"
        },
        {
          "output_type": "stream",
          "text": [
            "/usr/local/lib/python3.6/dist-packages/ipykernel_launcher.py:5: SettingWithCopyWarning: \n",
            "A value is trying to be set on a copy of a slice from a DataFrame.\n",
            "Try using .loc[row_indexer,col_indexer] = value instead\n",
            "\n",
            "See the caveats in the documentation: https://pandas.pydata.org/pandas-docs/stable/user_guide/indexing.html#returning-a-view-versus-a-copy\n",
            "  \"\"\"\n",
            "/usr/local/lib/python3.6/dist-packages/ipykernel_launcher.py:7: SettingWithCopyWarning: \n",
            "A value is trying to be set on a copy of a slice from a DataFrame.\n",
            "Try using .loc[row_indexer,col_indexer] = value instead\n",
            "\n",
            "See the caveats in the documentation: https://pandas.pydata.org/pandas-docs/stable/user_guide/indexing.html#returning-a-view-versus-a-copy\n",
            "  import sys\n",
            "/usr/local/lib/python3.6/dist-packages/ipykernel_launcher.py:8: SettingWithCopyWarning: \n",
            "A value is trying to be set on a copy of a slice from a DataFrame.\n",
            "Try using .loc[row_indexer,col_indexer] = value instead\n",
            "\n",
            "See the caveats in the documentation: https://pandas.pydata.org/pandas-docs/stable/user_guide/indexing.html#returning-a-view-versus-a-copy\n",
            "  \n",
            "/usr/local/lib/python3.6/dist-packages/ipykernel_launcher.py:9: SettingWithCopyWarning: \n",
            "A value is trying to be set on a copy of a slice from a DataFrame.\n",
            "Try using .loc[row_indexer,col_indexer] = value instead\n",
            "\n",
            "See the caveats in the documentation: https://pandas.pydata.org/pandas-docs/stable/user_guide/indexing.html#returning-a-view-versus-a-copy\n",
            "  if __name__ == '__main__':\n",
            "/usr/local/lib/python3.6/dist-packages/ipykernel_launcher.py:10: SettingWithCopyWarning: \n",
            "A value is trying to be set on a copy of a slice from a DataFrame.\n",
            "Try using .loc[row_indexer,col_indexer] = value instead\n",
            "\n",
            "See the caveats in the documentation: https://pandas.pydata.org/pandas-docs/stable/user_guide/indexing.html#returning-a-view-versus-a-copy\n",
            "  # Remove the CWD from sys.path while we load stuff.\n"
          ],
          "name": "stderr"
        },
        {
          "output_type": "execute_result",
          "data": {
            "text/plain": [
              "(1767, 17)"
            ]
          },
          "metadata": {
            "tags": []
          },
          "execution_count": 15
        }
      ]
    },
    {
      "cell_type": "code",
      "metadata": {
        "id": "Frnwe4MkWHQF",
        "colab_type": "code",
        "outputId": "5f2c98f3-917d-49db-cd4e-a325cdf2ff12",
        "colab": {
          "base_uri": "https://localhost:8080/",
          "height": 34
        }
      },
      "source": [
        "tweets_en = pd.read_csv(\"/content/tweets_more_en_quebec.csv\",parse_dates=[\"Datetime\"])\n",
        "tweets_en.shape"
      ],
      "execution_count": 0,
      "outputs": [
        {
          "output_type": "execute_result",
          "data": {
            "text/plain": [
              "(13117, 10)"
            ]
          },
          "metadata": {
            "tags": []
          },
          "execution_count": 18
        }
      ]
    },
    {
      "cell_type": "code",
      "metadata": {
        "id": "Ry6uWdPYWJUE",
        "colab_type": "code",
        "outputId": "bf66a4b1-1f0e-4901-ca63-31bf4c296028",
        "colab": {
          "base_uri": "https://localhost:8080/",
          "height": 581
        }
      },
      "source": [
        "df_tweets_tok = token_stem(tweets_en,\"english\")\n",
        "words_occ(df_tweets_tok,5)\n",
        "tweets_en_feel = contains_feeling(df_tweets_tok,\"english\")\n",
        "df_tweets_feeling = tweets_en_feel[tweets_en_feel.contains_feeling]\n",
        "df_tweets_feeling[\"main_emotion\"]= df_tweets_feeling[\"list_words\"].apply(lambda x: match_sentiment(x,\"english\"))\n",
        "df_tweets_feeling_en = df_tweets_feeling[(df_tweets_feeling.main_emotion!=\"Unknown\")]\n",
        "df_tweets_feeling_en[\"month\"]= df_tweets_feeling_en[\"Datetime\"].dt.month\n",
        "df_tweets_feeling_en[\"week\"]= df_tweets_feeling_en[\"Datetime\"].dt.week\n",
        "df_tweets_feeling_en['month_name'] = df_tweets_feeling_en['month'].apply(lambda x: calendar.month_abbr[x])\n",
        "df_tweets_feeling_en[\"first_day_of_week\"]=df_tweets_feeling_en[\"week\"].apply(lambda x: datetime.datetime.strptime(\"2020-W\"+str(x) + '-1', \"%Y-W%W-%w\"))\n",
        "df_tweets_feeling_en.shape"
      ],
      "execution_count": 0,
      "outputs": [
        {
          "output_type": "stream",
          "text": [
            "[('covid19', 7597), ('pandem', 3031), ('I', 2712), ('covid', 2522), ('peopl', 1251)]\n"
          ],
          "name": "stdout"
        },
        {
          "output_type": "stream",
          "text": [
            "/usr/local/lib/python3.6/dist-packages/ipykernel_launcher.py:5: SettingWithCopyWarning: \n",
            "A value is trying to be set on a copy of a slice from a DataFrame.\n",
            "Try using .loc[row_indexer,col_indexer] = value instead\n",
            "\n",
            "See the caveats in the documentation: https://pandas.pydata.org/pandas-docs/stable/user_guide/indexing.html#returning-a-view-versus-a-copy\n",
            "  \"\"\"\n",
            "/usr/local/lib/python3.6/dist-packages/ipykernel_launcher.py:7: SettingWithCopyWarning: \n",
            "A value is trying to be set on a copy of a slice from a DataFrame.\n",
            "Try using .loc[row_indexer,col_indexer] = value instead\n",
            "\n",
            "See the caveats in the documentation: https://pandas.pydata.org/pandas-docs/stable/user_guide/indexing.html#returning-a-view-versus-a-copy\n",
            "  import sys\n",
            "/usr/local/lib/python3.6/dist-packages/ipykernel_launcher.py:8: SettingWithCopyWarning: \n",
            "A value is trying to be set on a copy of a slice from a DataFrame.\n",
            "Try using .loc[row_indexer,col_indexer] = value instead\n",
            "\n",
            "See the caveats in the documentation: https://pandas.pydata.org/pandas-docs/stable/user_guide/indexing.html#returning-a-view-versus-a-copy\n",
            "  \n",
            "/usr/local/lib/python3.6/dist-packages/ipykernel_launcher.py:9: SettingWithCopyWarning: \n",
            "A value is trying to be set on a copy of a slice from a DataFrame.\n",
            "Try using .loc[row_indexer,col_indexer] = value instead\n",
            "\n",
            "See the caveats in the documentation: https://pandas.pydata.org/pandas-docs/stable/user_guide/indexing.html#returning-a-view-versus-a-copy\n",
            "  if __name__ == '__main__':\n",
            "/usr/local/lib/python3.6/dist-packages/ipykernel_launcher.py:10: SettingWithCopyWarning: \n",
            "A value is trying to be set on a copy of a slice from a DataFrame.\n",
            "Try using .loc[row_indexer,col_indexer] = value instead\n",
            "\n",
            "See the caveats in the documentation: https://pandas.pydata.org/pandas-docs/stable/user_guide/indexing.html#returning-a-view-versus-a-copy\n",
            "  # Remove the CWD from sys.path while we load stuff.\n"
          ],
          "name": "stderr"
        },
        {
          "output_type": "execute_result",
          "data": {
            "text/plain": [
              "(1240, 17)"
            ]
          },
          "metadata": {
            "tags": []
          },
          "execution_count": 19
        }
      ]
    },
    {
      "cell_type": "markdown",
      "metadata": {
        "id": "onaPDZPVYPqq",
        "colab_type": "text"
      },
      "source": [
        "# Tweets "
      ]
    },
    {
      "cell_type": "code",
      "metadata": {
        "id": "9zJ3Lfh3YSzq",
        "colab_type": "code",
        "colab": {}
      },
      "source": [
        "tweets_en[\"month\"]= tweets_en[\"Datetime\"].dt.month\n",
        "\n",
        "tweets_en[\"week\"]= tweets_en[\"Datetime\"].dt.week\n",
        "tweets_en[\"first_day_of_week\"]=tweets_en[\"week\"].apply(lambda x: datetime.datetime.strptime(\"2020-W\"+str(x) + '-1', \"%Y-W%W-%w\"))\n",
        "\n",
        "tweets_fr[\"month\"]= tweets_fr[\"Datetime\"].dt.month\n",
        "tweets_fr[\"week\"]= tweets_fr[\"Datetime\"].dt.week\n",
        "tweets_fr[\"first_day_of_week\"]=tweets_fr[\"week\"].apply(lambda x: datetime.datetime.strptime(\"2020-W\"+str(x) + '-1', \"%Y-W%W-%w\"))\n"
      ],
      "execution_count": 0,
      "outputs": []
    },
    {
      "cell_type": "code",
      "metadata": {
        "id": "uw4ZJQ89Z5H6",
        "colab_type": "code",
        "outputId": "8f5131c0-b0b1-4486-d929-53731cd096b9",
        "colab": {
          "base_uri": "https://localhost:8080/",
          "height": 85
        }
      },
      "source": [
        "tweets_en.columns"
      ],
      "execution_count": 0,
      "outputs": [
        {
          "output_type": "execute_result",
          "data": {
            "text/plain": [
              "Index(['Unnamed: 0', 'Unnamed: 0.1', 'Datetime', 'Text', 'Username',\n",
              "       'Retweets', 'Mentions', 'Reply', 'Link', 'Region', 'list_words',\n",
              "       'contains_feeling', 'month', 'week', 'first_day_of_week'],\n",
              "      dtype='object')"
            ]
          },
          "metadata": {
            "tags": []
          },
          "execution_count": 21
        }
      ]
    },
    {
      "cell_type": "code",
      "metadata": {
        "id": "DjeOoqEmYTAs",
        "colab_type": "code",
        "colab": {}
      },
      "source": [
        "tweets_en_count = tweets_en.groupby([\"week\",\"first_day_of_week\"]).count()[\"Text\"].reset_index()"
      ],
      "execution_count": 0,
      "outputs": []
    },
    {
      "cell_type": "code",
      "metadata": {
        "id": "rSgx8TPhYykN",
        "colab_type": "code",
        "colab": {}
      },
      "source": [
        "tweets_fr_count = tweets_fr.groupby([\"week\",\"first_day_of_week\"]).count()[\"Text\"].reset_index()\n",
        "tweets_fr_count[\"lang\"]=\"french\"\n",
        "tweets_en_count[\"lang\"]=\"english\""
      ],
      "execution_count": 0,
      "outputs": []
    },
    {
      "cell_type": "code",
      "metadata": {
        "id": "bV-Nf5MIeADE",
        "colab_type": "code",
        "colab": {}
      },
      "source": [
        "df = pd.concat([tweets_fr_count,tweets_en_count],axis=0)\n",
        "df.to_csv(\"counts_tweet.csv\")"
      ],
      "execution_count": 0,
      "outputs": []
    },
    {
      "cell_type": "code",
      "metadata": {
        "id": "Ppjc2rRVafz9",
        "colab_type": "code",
        "colab": {}
      },
      "source": [
        "tweets_fr_count.to_csv(\"tweets_fr_count.csv\")\n",
        "tweets_en_count.to_csv(\"tweets_en_count.csv\")"
      ],
      "execution_count": 0,
      "outputs": []
    },
    {
      "cell_type": "code",
      "metadata": {
        "id": "dLD4RW1RY8A7",
        "colab_type": "code",
        "outputId": "89ce47c9-fd52-475d-d140-37af59e23995",
        "colab": {
          "base_uri": "https://localhost:8080/",
          "height": 316
        }
      },
      "source": [
        "plt.plot(tweets_en_count.first_day_of_week,tweets_en_count.Text,label=\"Tweets in English\")\n",
        "plt.plot(tweets_fr_count.first_day_of_week,tweets_fr_count.Text,label=\"Tweets en Français\")\n",
        "plt.legend(loc='best',frameon=False,prop={'size': 12})\n",
        "plt.title(\"Tweets\")\n",
        "plt.xticks(rotation=40)\n",
        "plt.show()"
      ],
      "execution_count": 0,
      "outputs": [
        {
          "output_type": "display_data",
          "data": {
            "image/png": "[encoded data removed]",
            "text/plain": [
              "<Figure size 432x288 with 1 Axes>"
            ]
          },
          "metadata": {
            "tags": [],
            "needs_background": "light"
          }
        }
      ]
    },
    {
      "cell_type": "markdown",
      "metadata": {
        "id": "UoTwJgxDYN6L",
        "colab_type": "text"
      },
      "source": [
        "# Sentiment Occurences"
      ]
    },
    {
      "cell_type": "markdown",
      "metadata": {
        "id": "BKAn1c61WUIw",
        "colab_type": "text"
      },
      "source": [
        "Monthly Occurence"
      ]
    },
    {
      "cell_type": "code",
      "metadata": {
        "id": "tDLAdEhkWVzX",
        "colab_type": "code",
        "outputId": "0ffe5a89-8562-4c61-97d3-56cbe0fc6f91",
        "colab": {
          "base_uri": "https://localhost:8080/",
          "height": 545
        }
      },
      "source": [
        "level=\"month\"\n",
        "results_fr = pd.DataFrame()\n",
        "results_en = pd.DataFrame()\n",
        "for i in df_tweets_feeling_en[\"Datetime\"].dt.month.unique():\n",
        "    df = df_tweets_feeling_fr[df_tweets_feeling_fr[\"Datetime\"].dt.month==i]\n",
        "    results_fr = pd.concat([results_fr,panas_t_calc_2(df,i,level,'french')])\n",
        "    df = df_tweets_feeling_en[df_tweets_feeling_en[\"Datetime\"].dt.month==i]\n",
        "    results_en = pd.concat([results_en,panas_t_calc_2(df,i,level,'english')])\n",
        "emotions_selected = [\"Fear\",\"Joviality\",\"Guilt\"]\n",
        "\n",
        "\n",
        "for e in emotions_selected:\n",
        "    df_en = results_en[results_en.emotion == e]\n",
        "    df_en = df_en.sort_values('month', ascending = True).reset_index(drop=True)\n",
        "    \n",
        "    plt.plot(df_en.month_name,df_en[\"occurences\"],label=e)\n",
        "plt.title(\"Occurence of emotion expression about coronavirus in Quebec\")\n",
        "plt.legend(loc='best',frameon=False,prop={'size': 7})\n",
        "plt.show()\n",
        "\n",
        "for e in emotions_selected:\n",
        "    df_fr = results_fr[results_fr.emotion == e]\n",
        "    df_fr = df_fr.sort_values('month', ascending = True).reset_index(drop=True)\n",
        "    plt.plot(df_fr.month_name,df_fr[\"occurences\"],label=e)\n",
        "\n",
        "plt.legend(loc='best',frameon=False,prop={'size': 7})\n",
        "plt.title(\"Nombre d'expression d'émotions sur le coronavirus au Quebec\")\n",
        "plt.show()"
      ],
      "execution_count": 0,
      "outputs": [
        {
          "output_type": "display_data",
          "data": {
            "image/png": "[encoded data removed]",
            "text/plain": [
              "<Figure size 432x288 with 1 Axes>"
            ]
          },
          "metadata": {
            "tags": [],
            "needs_background": "light"
          }
        },
        {
          "output_type": "display_data",
          "data": {
            "image/png": "[encoded data removed]",
            "text/plain": [
              "<Figure size 432x288 with 1 Axes>"
            ]
          },
          "metadata": {
            "tags": [],
            "needs_background": "light"
          }
        }
      ]
    },
    {
      "cell_type": "markdown",
      "metadata": {
        "id": "GnHKrhCEWWb_",
        "colab_type": "text"
      },
      "source": [
        "Weekly occurence"
      ]
    },
    {
      "cell_type": "code",
      "metadata": {
        "id": "_75eCGPwWYKA",
        "colab_type": "code",
        "outputId": "6e45484f-665a-4880-de11-ab769823e98f",
        "colab": {
          "base_uri": "https://localhost:8080/",
          "height": 615
        }
      },
      "source": [
        "level=\"weekly\"\n",
        "results_fr = pd.DataFrame()\n",
        "results_en = pd.DataFrame()\n",
        "for i in df_tweets_feeling_en[\"Datetime\"].dt.week.unique():\n",
        "    df = df_tweets_feeling_fr[df_tweets_feeling_fr[\"Datetime\"].dt.week==i]\n",
        "    results_fr = pd.concat([results_fr,panas_t_calc_2(df,i,level,'french')])\n",
        "    df = df_tweets_feeling_en[df_tweets_feeling_en[\"Datetime\"].dt.week==i]\n",
        "    results_en = pd.concat([results_en,panas_t_calc_2(df,i,level,'english')])\n",
        "emotions_selected = [\"Fear\",\"Hostility\",\"Guilt\",\"Sadness\",\"Joviality\",\"Self_assurance\",\"Attentiveness\",\"Shyness\",\"Fatigue\",\"Serenity\",\"Surprise\"]\n",
        "\n",
        "results_en.to_csv(\"panas_en_f.csv\")\n",
        "results_fr.to_csv(\"panas_fr_f.csv\")\n",
        "for e in emotions_selected:\n",
        "    df_en = results_en[results_en.emotion == e]\n",
        "    df_en = df_en.sort_values('week', ascending = True).reset_index(drop=True)\n",
        "    \n",
        "    plt.plot(df_en.first_day_of_week,df_en[\"occurences\"],label=e)\n",
        "plt.title(\"Occurence of emotion expression about coronavirus in Quebec\")\n",
        "plt.legend(loc='best',frameon=False,prop={'size': 7})\n",
        "plt.xticks(rotation=40)\n",
        "plt.show()\n",
        "\n",
        "for e in emotions_selected:\n",
        "    df_fr = results_fr[results_fr.emotion == e]\n",
        "    df_fr = df_fr.sort_values('week', ascending = True).reset_index(drop=True)\n",
        "    plt.plot(df_fr.first_day_of_week,df_fr[\"occurences\"],label=e)\n",
        "\n",
        "plt.legend(loc='best',frameon=False,prop={'size': 7})\n",
        "plt.title(\"Nombre d'expression d'émotions sur le coronavirus au Quebec\")\n",
        "plt.xticks(rotation=40)\n",
        "plt.show()"
      ],
      "execution_count": 0,
      "outputs": [
        {
          "output_type": "display_data",
          "data": {
            "image/png": "[encoded data removed]",
            "text/plain": [
              "<Figure size 432x288 with 1 Axes>"
            ]
          },
          "metadata": {
            "tags": [],
            "needs_background": "light"
          }
        },
        {
          "output_type": "display_data",
          "data": {
            "image/png": "[encoded data removed]",
            "text/plain": [
              "<Figure size 432x288 with 1 Axes>"
            ]
          },
          "metadata": {
            "tags": [],
            "needs_background": "light"
          }
        }
      ]
    },
    {
      "cell_type": "code",
      "metadata": {
        "id": "ie38AcnnX3Ix",
        "colab_type": "code",
        "colab": {}
      },
      "source": [
        ""
      ],
      "execution_count": 0,
      "outputs": []
    }
  ]
}